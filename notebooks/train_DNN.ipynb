{
 "cells": [
  {
   "cell_type": "code",
   "execution_count": null,
   "metadata": {},
   "outputs": [],
   "source": [
    "import numpy as np\n",
    "import tensorflow as tf\n",
    "from tensorflow.keras.layers import Input, Dense, LeakyReLU, Concatenate, Flatten, BatchNormalization, Dropout\n",
    "from tensorflow.keras.activations import sigmoid, relu, tanh\n",
    "from tensorflow.keras.models import Model\n",
    "from tensorflow.keras import backend as K\n",
    "from tensorflow.keras import optimizers, regularizers\n",
    "\n",
    "import pickle\n",
    "import matplotlib.pyplot as plt"
   ]
  },
  {
   "cell_type": "code",
   "execution_count": null,
   "metadata": {},
   "outputs": [],
   "source": [
    "from module import ml_model as ml\n",
    "from module import util\n",
    "from module import data_transform as transform\n",
    "from module import data_generator as gen"
   ]
  },
  {
   "cell_type": "code",
   "execution_count": null,
   "metadata": {},
   "outputs": [],
   "source": [
    "# Load the configuration\n",
    "config = util.load_config(\"../configs/config.yaml\")"
   ]
  },
  {
   "cell_type": "code",
   "execution_count": null,
   "metadata": {},
   "outputs": [],
   "source": [
    "# Load the training data\n",
    "with open('../training_data/3_CHs_300_phases_500000_samples.pickle', 'rb') as read:\n",
    "    data_loaded = pickle.load(read)\n",
    "\n",
    "f = data_loaded[\"data\"][0]\n",
    "r = data_loaded[\"data\"][1]\n",
    "a = data_loaded[\"data\"][2]"
   ]
  },
  {
   "cell_type": "code",
   "execution_count": null,
   "metadata": {},
   "outputs": [],
   "source": [
    "data = list(zip(f, r, a))\n",
    "# shuffle data in a same order\n",
    "np.random.shuffle(data)\n",
    "# unzip the data\n",
    "f, r, a = zip(*data)\n",
    "\n",
    "f = np.array(f)\n",
    "r = np.array(r)\n",
    "a = np.array(a)"
   ]
  },
  {
   "cell_type": "code",
   "execution_count": null,
   "metadata": {},
   "outputs": [],
   "source": [
    "num_samples = 400000\n",
    "split = int(num_samples * 0.8)\n",
    "\n",
    "# Load the training and testing data\n",
    "F_train = f[:split]\n",
    "R_train = r[:split]\n",
    "A_train = a[:split]\n",
    "\n",
    "F_val = f[split:num_samples]\n",
    "R_val = r[split:num_samples]\n",
    "A_val = a[split:num_samples] "
   ]
  },
  {
   "cell_type": "code",
   "execution_count": null,
   "metadata": {},
   "outputs": [],
   "source": [
    "A_train = gen.generate_A_from_cascasded_AoA(A_train, 300)\n",
    "A_val = gen.generate_A_from_cascasded_AoA(A_val, 300)"
   ]
  },
  {
   "cell_type": "code",
   "execution_count": null,
   "metadata": {},
   "outputs": [],
   "source": [
    "print(F_train.shape, R_train.shape, A_train.shape)\n",
    "print(F_val.shape, R_val.shape, A_val.shape)\n",
    "config_training = data_loaded[\"config\"]"
   ]
  },
  {
   "cell_type": "code",
   "execution_count": null,
   "metadata": {},
   "outputs": [],
   "source": [
    "# data transformer\n",
    "data_transformer = transform.DataNormalization()\n",
    "data_transformer.fit(F_train, R_train)\n",
    "print(vars(data_transformer))"
   ]
  },
  {
   "cell_type": "code",
   "execution_count": null,
   "metadata": {},
   "outputs": [],
   "source": [
    "# Create a DNN model\n",
    "DNN = ml.DNN(config)\n",
    "DNN.data_transformer = data_transformer\n",
    "DNN.construct_DNN_model()\n",
    "# Train and save model periodically\n",
    "DNN.fit(F_train=F_train, R_train=R_train, A_train=A_train, F_val=F_val, R_val=R_val, A_val=A_val, cascaded_data=False)"
   ]
  },
  {
   "cell_type": "code",
   "execution_count": null,
   "metadata": {},
   "outputs": [],
   "source": [
    "plt.plot(DNN.loss_for_training)\n",
    "plt.plot(DNN.loss_for_val)\n",
    "plt.show()"
   ]
  },
  {
   "cell_type": "code",
   "execution_count": null,
   "metadata": {},
   "outputs": [],
   "source": []
  }
 ],
 "metadata": {
  "interpreter": {
   "hash": "b9a050a58662b6d48b6943774204d529f4cad421c7c268f6b35f669e59bee92e"
  },
  "kernelspec": {
   "display_name": "Python 3.7.3 64-bit ('myenv': venv)",
   "name": "python3"
  },
  "language_info": {
   "codemirror_mode": {
    "name": "ipython",
    "version": 3
   },
   "file_extension": ".py",
   "mimetype": "text/x-python",
   "name": "python",
   "nbconvert_exporter": "python",
   "pygments_lexer": "ipython3",
   "version": "3.7.3"
  },
  "orig_nbformat": 4
 },
 "nbformat": 4,
 "nbformat_minor": 2
}
